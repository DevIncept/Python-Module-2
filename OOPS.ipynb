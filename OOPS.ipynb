{
 "cells": [
  {
   "cell_type": "markdown",
   "metadata": {},
   "source": [
    "# Creating a class"
   ]
  },
  {
   "cell_type": "code",
   "execution_count": 1,
   "metadata": {},
   "outputs": [],
   "source": [
    "class Student:      # created a class \"Student\"    \n",
    "    name = \"Tom\"\n",
    "    grade = \"A\"\n",
    "    age = 15\n",
    "    \n",
    "    def display(self):\n",
    "        print(self.name,self.grade,self.age)       \n",
    "        \n",
    "# There will be no output here, because we are not invoking (calling) the \"display\" function to print"
   ]
  },
  {
   "cell_type": "markdown",
   "metadata": {},
   "source": [
    "## Creating an object"
   ]
  },
  {
   "cell_type": "code",
   "execution_count": 2,
   "metadata": {},
   "outputs": [
    {
     "name": "stdout",
     "output_type": "stream",
     "text": [
      "Tom A 15\n"
     ]
    }
   ],
   "source": [
    "class Student:         \n",
    "    name = \"Tom\"\n",
    "    grade = \"A\"\n",
    "    age = 15\n",
    "    \n",
    "    def display(self):\n",
    "        print(self.name,self.grade,self.age) \n",
    "        \n",
    "s1 = Student()     # created an object \"s1\" of class \"Student\"\n",
    "\n",
    "s1.display()      # displaying the details through the \"display\" finction"
   ]
  },
  {
   "cell_type": "markdown",
   "metadata": {},
   "source": [
    "## Creating a constructor"
   ]
  },
  {
   "cell_type": "markdown",
   "metadata": {},
   "source": [
    "> If we give parameters inside the constructor (inside __init__) then that type of representation is called \"Parameterized constructor\"\n",
    "\n",
    "> If we don't give parameters inside the constructor (inside __init__) then that type of representation is called \"Non-Parameterized constructor\""
   ]
  },
  {
   "cell_type": "markdown",
   "metadata": {},
   "source": [
    "![constructor details](Github%20images/constructor.png)"
   ]
  },
  {
   "cell_type": "code",
   "execution_count": 3,
   "metadata": {},
   "outputs": [
    {
     "name": "stdout",
     "output_type": "stream",
     "text": [
      "Tom completed Btech and working as a software engineer\n",
      "Jerry completed MBBS and working as a doctor\n"
     ]
    }
   ],
   "source": [
    "# This is a parameterized constructor\n",
    "\n",
    "class Student:\n",
    "    def __init__(self,name,study,occupation):      # intializing all the parameters we need i.e, name, study, occupation in the constructor\n",
    "        self.name = name\n",
    "        self.study = study\n",
    "        self.occupation = occupation\n",
    "    \n",
    "    def output(self):\n",
    "        print(self.name + \" completed \" + self.study + \" and working as a \" + self.occupation)\n",
    "        \n",
    "\n",
    "s1 = Student('Tom', 'Btech' ,'software engineer')           # creating two objects and giving the     \n",
    "s2 = Student('Jerry', \"MBBS\", 'doctor')                    # input as the order mentioned in the \" __init__ \" function\n",
    "\n",
    "s1.output()\n",
    "s2.output()"
   ]
  },
  {
   "cell_type": "code",
   "execution_count": 4,
   "metadata": {},
   "outputs": [
    {
     "name": "stdout",
     "output_type": "stream",
     "text": [
      " This is a Non parameterized constructor\n"
     ]
    }
   ],
   "source": [
    "# This is a non-parameterized constructor\n",
    "\n",
    "class Student:\n",
    "    def __init__(self):\n",
    "        print(\" This is a Non parameterized constructor\")\n",
    "        \n",
    "s1 = Student()"
   ]
  },
  {
   "cell_type": "markdown",
   "metadata": {},
   "source": [
    "## Python in-built class functions"
   ]
  },
  {
   "cell_type": "code",
   "execution_count": 5,
   "metadata": {},
   "outputs": [
    {
     "name": "stdout",
     "output_type": "stream",
     "text": [
      "Tom\n",
      "15\n",
      "Age of the tom is changed using 'setattr' \n",
      "20\n",
      "Checking whether the particular attribute is there or not\n",
      "True\n",
      "False\n"
     ]
    }
   ],
   "source": [
    "class Student:\n",
    "    def __init__(self,name,grade,age):\n",
    "        self.name = name\n",
    "        self.grade = grade\n",
    "        self.age = age\n",
    "    \n",
    "s1 = Student(\"Tom\",\"A\",15)\n",
    "\n",
    "print(getattr(s1,'name'))                     # we get the value of the particular attribute \n",
    "print(getattr(s1,\"age\"))                      # Here,we are asking for attributes \"name\",\"age\" and the value of those attributes are \"Tom\",15 respectively\n",
    "                   \n",
    "    \n",
    "setattr(s1,\"age\",20)                          # setting the attribute (changing)\n",
    "print(\"Age of the tom is changed using 'setattr' \")\n",
    "print(getattr(s1,\"age\"))\n",
    "\n",
    "\n",
    "print(\"Checking whether the particular attribute is there or not\")\n",
    "print(hasattr(s1,\"name\"))                                              # Returns \"True\" if the attribute is intialized on our class \n",
    "print(hasattr(s1,\"school\"))                                            # or else gives \"False\""
   ]
  },
  {
   "cell_type": "markdown",
   "metadata": {},
   "source": [
    "## Built-in class attributes"
   ]
  },
  {
   "cell_type": "code",
   "execution_count": 6,
   "metadata": {},
   "outputs": [
    {
     "name": "stdout",
     "output_type": "stream",
     "text": [
      "This is doc string where we mention,what's the idea of this progam \n",
      "{'name': 'Tom', 'grade': 'A', 'age': 15}\n"
     ]
    }
   ],
   "source": [
    "class Student:\n",
    "    '''This is doc string where we mention,what's the idea of this progam '''\n",
    "    def __init__(self,name,grade,age):\n",
    "        self.name = name\n",
    "        self.grade = grade\n",
    "        self.age = age\n",
    "    \n",
    "s1 = Student(\"Tom\",\"A\",15)\n",
    "print(Student.__doc__)       # printing the doc string\n",
    "print(s1.__dict__)           # printing the attributes in a dictionary data type way "
   ]
  },
  {
   "cell_type": "markdown",
   "metadata": {},
   "source": [
    "# Inheritance"
   ]
  },
  {
   "cell_type": "code",
   "execution_count": 7,
   "metadata": {},
   "outputs": [
    {
     "name": "stdout",
     "output_type": "stream",
     "text": [
      "This is the parent class\n",
      "Lion roars\n",
      "Dog barks\n"
     ]
    }
   ],
   "source": [
    "class Parent:     \n",
    "    print(\"This is the parent class\")    \n",
    "    def dog(self):\n",
    "        print(\"Dog barks\")\n",
    "        \n",
    "        \n",
    "class Child(Parent):           # Inheriting the \"parent\" class using \"child\" class\n",
    "    def lion(self):\n",
    "        print(\"Lion roars\")\n",
    "    \n",
    "c1 = Child()      # \"c1\" is the object of \"Child\" class\n",
    "c1.lion()\n",
    "c1.dog()          # because of inheritance, the print statement inside the \"dog\" function , which is inside the \"Parent\" class is also printed.\n",
    "            "
   ]
  },
  {
   "cell_type": "markdown",
   "metadata": {},
   "source": [
    "## Multi-level inheritance"
   ]
  },
  {
   "cell_type": "code",
   "execution_count": 8,
   "metadata": {},
   "outputs": [
    {
     "name": "stdout",
     "output_type": "stream",
     "text": [
      "This is the parent class\n",
      "Lion roars\n",
      "Dog barks\n",
      "pegion coos\n"
     ]
    }
   ],
   "source": [
    "class Parent:     \n",
    "    print(\"This is the parent class\")    \n",
    "    def dog(self):\n",
    "        print(\"Dog barks\")\n",
    "        \n",
    "        \n",
    "class Child(Parent):           # Inheriting the \"parent\" class using \"child\" class\n",
    "    def lion(self):\n",
    "        print(\"Lion roars\")\n",
    "        \n",
    "class Grandchild(Child):       # Inheriting the \"Child\" class\n",
    "    def pegion(self):\n",
    "        print(\"pegion coos\")\n",
    "    \n",
    "c1 = Grandchild()      # \"c1\" is the object of \"Grandchild\" class\n",
    "c1.lion()\n",
    "c1.dog()          # because of inheritance, the print statement inside the \"dog\" function , which is inside the \"Parent\" class is also printed.\n",
    "c1.pegion()       # because of inheritance, the print statement inside the \"lion\" function , which is inside the \"Child\" class is also printed.\n",
    "            "
   ]
  },
  {
   "cell_type": "markdown",
   "metadata": {},
   "source": [
    "# Multiple inheritance"
   ]
  },
  {
   "cell_type": "code",
   "execution_count": 9,
   "metadata": {},
   "outputs": [
    {
     "name": "stdout",
     "output_type": "stream",
     "text": [
      "50\n",
      "600\n",
      "0.6666666666666666\n"
     ]
    }
   ],
   "source": [
    "class Calculator1:\n",
    "    def sum(self,a,b):\n",
    "        return a + b\n",
    "\n",
    "class Calculator2:\n",
    "    def mul(self,a,b):\n",
    "        return a * b\n",
    "\n",
    "class Derived(Calculator1,Calculator2):        # Multiple inheritance, since it is having multiple (in this case 2) class arguments.\n",
    "    def div(self,a,b):\n",
    "        return a / b\n",
    "    \n",
    "\n",
    "d = Derived()\n",
    "print(d.sum(20,30))\n",
    "print(d.mul(20,30))\n",
    "print(d.div(20,30))\n",
    "\n"
   ]
  },
  {
   "cell_type": "markdown",
   "metadata": {},
   "source": [
    "# Polymorphism"
   ]
  },
  {
   "cell_type": "code",
   "execution_count": 10,
   "metadata": {},
   "outputs": [
    {
     "name": "stdout",
     "output_type": "stream",
     "text": [
      "I am a teacher\n",
      "I am a lecturer\n",
      "I am a professor\n"
     ]
    }
   ],
   "source": [
    "class Teacher:\n",
    "    def intro(self):\n",
    "        print(\"I am a teacher\")\n",
    "    \n",
    "    def experience(self):\n",
    "        print(\"3 to 4 years\")\n",
    "        \n",
    "    \n",
    "class Lecturer:\n",
    "    def intro(self):\n",
    "        print(\"I am a lecturer\")\n",
    "    \n",
    "    def experience(self):\n",
    "        print(\"5 to 6 years\")\n",
    "        \n",
    "         \n",
    "\n",
    "class Professor:\n",
    "    def intro(self):\n",
    "        print(\"I am a professor\")\n",
    "    \n",
    "    def experience(self):\n",
    "        print(\"8 to 10 years\")\n",
    "      \n",
    "       \n",
    "        \n",
    "\n",
    "# Common Interface for all persons\n",
    "def category(person):\n",
    "    person.intro()             # only intros are printed \n",
    "\n",
    "                               # type \"person.experience\" instead of \"person.intro\", we get only experience. If we type both \"person.intro\" and \"person.experience\" , then both statements are printed.\n",
    "\n",
    "# instantiate objects    \n",
    "t = Teacher()\n",
    "l = Lecturer()\n",
    "p = Professor()\n",
    "\n",
    "\n",
    "# passing the object\n",
    "category(t)\n",
    "category(l)\n",
    "category(p)"
   ]
  },
  {
   "cell_type": "markdown",
   "metadata": {},
   "source": [
    "# Encapsulation"
   ]
  },
  {
   "cell_type": "code",
   "execution_count": 11,
   "metadata": {},
   "outputs": [
    {
     "name": "stdout",
     "output_type": "stream",
     "text": [
      "Selling Price: 900\n",
      "Selling Price: 900\n",
      "Selling Price: 1000\n"
     ]
    }
   ],
   "source": [
    "class Computer:\n",
    "\n",
    "    def __init__(self):\n",
    "        self.__maxprice = 900             # maxprice is a private data bcz, it is starting with \" __ \" underscores\n",
    "        \n",
    "    def sell(self):\n",
    "        print(\"Selling Price: {}\".format(self.__maxprice))\n",
    "        \n",
    "    \n",
    "    def setMaxPrice(self, price):        # This method is used to set the private data\n",
    "        self.__maxprice = price\n",
    "\n",
    "\n",
    "c = Computer()                           # c is an object of \"Computer\" class\n",
    "c.sell()\n",
    "\n",
    "# change the price\n",
    "c.__maxprice = 1000          # Here, we are modifying our data directly \"__maxprice\" to 1000. But the data is not modified because it is a private data\n",
    "c.sell()\n",
    "\n",
    "# using setter function              \n",
    "c.setMaxPrice(1000)        # In order to change the private data, we have to take help of the method \"setMaxPrice\" and then now the data is modified\n",
    "c.sell()                   # Invoking (calling) the \"sell\" method (function)\n"
   ]
  },
  {
   "cell_type": "markdown",
   "metadata": {},
   "source": [
    "## Data abstraction"
   ]
  },
  {
   "cell_type": "code",
   "execution_count": 12,
   "metadata": {},
   "outputs": [
    {
     "name": "stdout",
     "output_type": "stream",
     "text": [
      "I am a jr.developer and develops small applications\n",
      "I am a sr.developer and develops large applications\n"
     ]
    }
   ],
   "source": [
    "from abc import ABC,abstractclassmethod\n",
    "\n",
    "class Company(ABC):           # this is the abstract class and \"ABC\" is called as \"Abstract Base Class\" which is imported from module \"abc\"\n",
    "    \n",
    "    # this is the abstact class method and that \"@\" is called as decorators. With the help of the decorator only we can make the method as abstract class method\n",
    "    @abstractclassmethod\n",
    "    def developer(self):      \n",
    "        pass\n",
    "    \n",
    "class Jr_developer(Company):\n",
    "    def developer(self):\n",
    "        print(\"I am a jr.developer and develops small applications\")\n",
    "    \n",
    "class Sr_developer(Company):\n",
    "    def developer(self):\n",
    "        print(\"I am a sr.developer and develops large applications\")\n",
    "    \n",
    "\n",
    "j = Jr_developer()\n",
    "s = Sr_developer()\n",
    "\n",
    "j.developer()\n",
    "s.developer()\n",
    "\n"
   ]
  }
 ],
 "metadata": {
  "kernelspec": {
   "display_name": "Python 3",
   "language": "python",
   "name": "python3"
  },
  "language_info": {
   "codemirror_mode": {
    "name": "ipython",
    "version": 3
   },
   "file_extension": ".py",
   "mimetype": "text/x-python",
   "name": "python",
   "nbconvert_exporter": "python",
   "pygments_lexer": "ipython3",
   "version": "3.6.5"
  }
 },
 "nbformat": 4,
 "nbformat_minor": 1
}
