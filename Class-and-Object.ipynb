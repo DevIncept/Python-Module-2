{
 "cells": [
  {
   "cell_type": "markdown",
   "metadata": {},
   "source": [
    "## Create a Class\n",
    "### To create a class, use the keyword class:"
   ]
  },
  {
   "cell_type": "code",
   "execution_count": 1,
   "metadata": {},
   "outputs": [
    {
     "name": "stdout",
     "output_type": "stream",
     "text": [
      "<class '__main__.car'>\n"
     ]
    }
   ],
   "source": [
    "class car:\n",
    "  x = 5\n",
    "\n",
    "print(car)"
   ]
  },
  {
   "cell_type": "markdown",
   "metadata": {},
   "source": [
    "## Object Creation"
   ]
  },
  {
   "cell_type": "code",
   "execution_count": 2,
   "metadata": {},
   "outputs": [
    {
     "name": "stdout",
     "output_type": "stream",
     "text": [
      "5\n",
      "Maruti\n"
     ]
    }
   ],
   "source": [
    "class car:\n",
    "    x = 5\n",
    "    company=\"Maruti\"\n",
    "\n",
    "p1 = car()\n",
    "print(p1.x)\n",
    "print(p1.company)"
   ]
  },
  {
   "cell_type": "markdown",
   "metadata": {},
   "source": [
    "## Object Creation & The self Parameter"
   ]
  },
  {
   "cell_type": "code",
   "execution_count": 3,
   "metadata": {},
   "outputs": [
    {
     "name": "stdout",
     "output_type": "stream",
     "text": [
      "Maruti\n",
      "I'm from Maruti\n",
      "I'm made in  India\n"
     ]
    }
   ],
   "source": [
    "class Jeep:  \n",
    "      \n",
    "# A simple class \n",
    "# attribute \n",
    "\n",
    "    company = \"Maruti\"\n",
    "    location = \"India\"\n",
    "  \n",
    " # A sample method   \n",
    "    def test(self): \n",
    "        print(\"I'm from\", self.company) \n",
    "        print(\"I'm made in \", self.location) \n",
    "  \n",
    "\n",
    "     # Object instantiation \n",
    "jimny = Jeep() \n",
    "  \n",
    "    # Accessing class attributes \n",
    "    # and method through objects \n",
    "    \n",
    "print(jimny.company) \n",
    "jimny.test() "
   ]
  },
  {
   "cell_type": "markdown",
   "metadata": {},
   "source": [
    "## The self Parameter"
   ]
  },
  {
   "cell_type": "markdown",
   "metadata": {},
   "source": [
    "#### It does not have to be named *self* , you can call it whatever you like, but it has to be the first parameter of any function in the class:"
   ]
  },
  {
   "cell_type": "code",
   "execution_count": 4,
   "metadata": {},
   "outputs": [
    {
     "name": "stdout",
     "output_type": "stream",
     "text": [
      "Hello ,  my car is BMW\n"
     ]
    }
   ],
   "source": [
    "class Car:\n",
    "    def __init__(sampleobject, name, price):\n",
    "            sampleobject.name = name\n",
    "            sampleobject.price = price\n",
    "\n",
    "    def myfunc(abc):\n",
    "           print(\"Hello ,  my car is \" + abc.name)\n",
    "\n",
    "p1 = Car(\"BMW\", 1)\n",
    "p1.myfunc()\n"
   ]
  },
  {
   "cell_type": "markdown",
   "metadata": {},
   "source": [
    "\n",
    " ##  The __init__() Function\n",
    " ##### Note: The __init__() function is called automatically every time the class is being used to create a new object."
   ]
  },
  {
   "cell_type": "code",
   "execution_count": 5,
   "metadata": {},
   "outputs": [
    {
     "name": "stdout",
     "output_type": "stream",
     "text": [
      "Maruti\n"
     ]
    }
   ],
   "source": [
    "  class Car:\n",
    "                def __init__(self, company):\n",
    "                         self.company =  company \n",
    "                         \n",
    "\n",
    "p1 = Car(\"Maruti\" )\n",
    "print(p1.company)"
   ]
  },
  {
   "cell_type": "markdown",
   "metadata": {},
   "source": [
    "\n",
    "## Modify Object Properties"
   ]
  },
  {
   "cell_type": "code",
   "execution_count": 6,
   "metadata": {
    "scrolled": true
   },
   "outputs": [
    {
     "name": "stdout",
     "output_type": "stream",
     "text": [
      "Hello my name is Swift\n",
      "Swift\n",
      "Previous rate of my model was  500000\n",
      "New rate is 400000\n"
     ]
    }
   ],
   "source": [
    "class Car:\n",
    "        def __init__(self, model, rate):\n",
    "                 self.model = model\n",
    "                 self.rate = rate\n",
    "\n",
    "        def  myfunc(self):\n",
    "                print(\"Hello my name is \" + self.model)\n",
    "\n",
    "p1 = Car(\"Swift\", 500000)\n",
    "p1.myfunc()\n",
    "print(p1.model)\n",
    "print(\"Previous rate of my model was \" , p1.rate) \n",
    "p1.rate = 400000\n",
    "print(\"New rate is\" , p1.rate)\n"
   ]
  },
  {
   "cell_type": "markdown",
   "metadata": {},
   "source": [
    "## Delete Object Properties\n",
    "#### You can delete properties on objects by using the del keyword:"
   ]
  },
  {
   "cell_type": "code",
   "execution_count": 7,
   "metadata": {},
   "outputs": [
    {
     "ename": "AttributeError",
     "evalue": "'Car' object has no attribute 'rate'",
     "output_type": "error",
     "traceback": [
      "\u001b[1;31m---------------------------------------------------------------------------\u001b[0m",
      "\u001b[1;31mAttributeError\u001b[0m                            Traceback (most recent call last)",
      "\u001b[1;32m<ipython-input-7-64e95b2d5111>\u001b[0m in \u001b[0;36m<module>\u001b[1;34m()\u001b[0m\n\u001b[0;32m     11\u001b[0m \u001b[1;33m\u001b[0m\u001b[0m\n\u001b[0;32m     12\u001b[0m \u001b[1;32mdel\u001b[0m \u001b[0mp1\u001b[0m\u001b[1;33m.\u001b[0m\u001b[0mrate\u001b[0m\u001b[1;33m\u001b[0m\u001b[0m\n\u001b[1;32m---> 13\u001b[1;33m \u001b[0mprint\u001b[0m\u001b[1;33m(\u001b[0m\u001b[0mp1\u001b[0m\u001b[1;33m.\u001b[0m\u001b[0mrate\u001b[0m\u001b[1;33m)\u001b[0m\u001b[1;33m\u001b[0m\u001b[0m\n\u001b[0m",
      "\u001b[1;31mAttributeError\u001b[0m: 'Car' object has no attribute 'rate'"
     ]
    }
   ],
   "source": [
    "class Car:\n",
    "            def __init__(self, model, rate):\n",
    "                   self.model = model\n",
    "                   self.rate = rate\n",
    "\n",
    "            def myfunc(self):\n",
    "                    print(\"Hello my name is \" + self.model)\n",
    "\n",
    "p1 = Car(\"Swift\",500000 )\n",
    "\n",
    "\n",
    "del p1.rate\n",
    "print(p1.rate)"
   ]
  },
  {
   "cell_type": "markdown",
   "metadata": {},
   "source": [
    "## Delete Object\n",
    "#### You can delete objects by using the del keyword:"
   ]
  },
  {
   "cell_type": "code",
   "execution_count": 8,
   "metadata": {},
   "outputs": [
    {
     "ename": "NameError",
     "evalue": "name 'p1' is not defined",
     "output_type": "error",
     "traceback": [
      "\u001b[1;31m---------------------------------------------------------------------------\u001b[0m",
      "\u001b[1;31mNameError\u001b[0m                                 Traceback (most recent call last)",
      "\u001b[1;32m<ipython-input-8-a7d98abfec97>\u001b[0m in \u001b[0;36m<module>\u001b[1;34m()\u001b[0m\n\u001b[0;32m     11\u001b[0m \u001b[1;33m\u001b[0m\u001b[0m\n\u001b[0;32m     12\u001b[0m \u001b[1;32mdel\u001b[0m \u001b[0mp1\u001b[0m\u001b[1;33m\u001b[0m\u001b[0m\n\u001b[1;32m---> 13\u001b[1;33m \u001b[0mprint\u001b[0m\u001b[1;33m(\u001b[0m\u001b[0mp1\u001b[0m\u001b[1;33m.\u001b[0m\u001b[0mrate\u001b[0m\u001b[1;33m)\u001b[0m\u001b[1;33m\u001b[0m\u001b[0m\n\u001b[0m",
      "\u001b[1;31mNameError\u001b[0m: name 'p1' is not defined"
     ]
    }
   ],
   "source": [
    "class Car:\n",
    "            def __init__(self, model, rate):\n",
    "                   self.model = model\n",
    "                   self.rate = rate\n",
    "\n",
    "            def myfunc(self):\n",
    "                    print(\"Hello my name is \" + self.model)\n",
    "\n",
    "p1 = Car(\"Swift\",500000 )\n",
    "\n",
    "\n",
    "del p1\n",
    "print(p1.rate)"
   ]
  },
  {
   "cell_type": "markdown",
   "metadata": {},
   "source": [
    "## The pass Statement"
   ]
  },
  {
   "cell_type": "code",
   "execution_count": 9,
   "metadata": {},
   "outputs": [],
   "source": [
    "class Person:\n",
    "       pass"
   ]
  },
  {
   "cell_type": "code",
   "execution_count": 10,
   "metadata": {},
   "outputs": [
    {
     "name": "stdout",
     "output_type": "stream",
     "text": [
      "Moderna details:\n",
      "Moderna is a Verna\n",
      "Model:  swift\n",
      "Color:  brown\n",
      "\n",
      "Buziga details:\n",
      "Buziga is a Verna\n",
      "Model:  wagonR\n",
      "Color:  black\n",
      "\n",
      "Accessing class variable using class name\n",
      "Verna\n"
     ]
    }
   ],
   "source": [
    "class Car:  \n",
    "    \n",
    "    # Class Variable  \n",
    "    fav_car = 'Verna'             \n",
    "    \n",
    "    # The init method or constructor  \n",
    "    def __init__(self, model, color):  \n",
    "      \n",
    "        # Instance Variable      \n",
    "        self.model = model \n",
    "        self.color = color         \n",
    "     \n",
    "# Objects of Dog class  \n",
    "Moderna = Car(\"swift\", \"brown\")  \n",
    "Buziga = Car(\"wagonR\", \"black\")  \n",
    "  \n",
    "print('Moderna details:')    \n",
    "print('Moderna is a', Moderna.fav_car)  \n",
    "print('Model: ', Moderna.model) \n",
    "print('Color: ', Moderna.color) \n",
    "  \n",
    "print('\\nBuziga details:')    \n",
    "print('Buziga is a', Buziga.fav_car)  \n",
    "print('Model: ', Buziga.model) \n",
    "print('Color: ', Buziga.color) \n",
    "  \n",
    "# Class variables can be accessed using class  \n",
    "# name also  \n",
    "print(\"\\nAccessing class variable using class name\") \n",
    "print(Car.fav_car)"
   ]
  }
 ],
 "metadata": {
  "kernelspec": {
   "display_name": "Python 3",
   "language": "python",
   "name": "python3"
  },
  "language_info": {
   "codemirror_mode": {
    "name": "ipython",
    "version": 3
   },
   "file_extension": ".py",
   "mimetype": "text/x-python",
   "name": "python",
   "nbconvert_exporter": "python",
   "pygments_lexer": "ipython3",
   "version": "3.6.5"
  }
 },
 "nbformat": 4,
 "nbformat_minor": 4
}
