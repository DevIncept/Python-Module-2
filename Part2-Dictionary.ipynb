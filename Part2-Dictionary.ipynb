{
 "cells": [
  {
   "cell_type": "markdown",
   "metadata": {},
   "source": [
    "# Python Dictionaries"
   ]
  },
  {
   "cell_type": "code",
   "execution_count": 1,
   "metadata": {},
   "outputs": [
    {
     "name": "stdout",
     "output_type": "stream",
     "text": [
      "{'Company': 'Maruti', 'model': 'Swift', 'year': 2020}\n"
     ]
    }
   ],
   "source": [
    "# Creating Dictionary\n",
    "thisdict = {\n",
    "\"Company\": \"Maruti\",\n",
    "\"model\": \"Swift\",\n",
    "\"year\": 2020\n",
    "}\n",
    "print(thisdict)"
   ]
  },
  {
   "cell_type": "code",
   "execution_count": 2,
   "metadata": {},
   "outputs": [
    {
     "name": "stdout",
     "output_type": "stream",
     "text": [
      "{'Company': 'Maruti', 'model': 'WagonR', 'year': 2020}\n"
     ]
    }
   ],
   "source": [
    "thisdict = {\n",
    "\"Company\": \"Maruti\",\n",
    "\"model\": \"Swift\",\n",
    "\"year\": 2020,\n",
    " \"model\": \"WagonR\"   #then the value which is last assigned is considered as the value of the key.\n",
    "}\n",
    "print(thisdict)"
   ]
  },
  {
   "cell_type": "markdown",
   "metadata": {},
   "source": [
    "## Accessing Items"
   ]
  },
  {
   "cell_type": "code",
   "execution_count": 3,
   "metadata": {},
   "outputs": [
    {
     "name": "stdout",
     "output_type": "stream",
     "text": [
      "Swift\n"
     ]
    }
   ],
   "source": [
    "#Accessing Items\n",
    "thisdict = {\n",
    "\"Company\": \"Maruti\",\n",
    "\"model\": \"Swift\",\n",
    "\"year\": 2020\n",
    "}\n",
    "x = thisdict[\"model\"]\n",
    "print(x)"
   ]
  },
  {
   "cell_type": "code",
   "execution_count": 4,
   "metadata": {},
   "outputs": [
    {
     "name": "stdout",
     "output_type": "stream",
     "text": [
      "Swift\n"
     ]
    }
   ],
   "source": [
    "thisdict = {\n",
    "\"Company\": \"Maruti\",\n",
    "\"model\": \"Swift\",\n",
    "\"year\": 2020\n",
    "}\n",
    "x = thisdict.get(\"model\")\n",
    "print(x)"
   ]
  },
  {
   "cell_type": "markdown",
   "metadata": {},
   "source": [
    "## Change Values"
   ]
  },
  {
   "cell_type": "code",
   "execution_count": 5,
   "metadata": {},
   "outputs": [
    {
     "name": "stdout",
     "output_type": "stream",
     "text": [
      "{'Company': 'Maruti', 'model': 'Swift', 'year': 2018}\n"
     ]
    }
   ],
   "source": [
    "thisdict = {\n",
    "\"Company\": \"Maruti\",\n",
    "\"model\": \"Swift\",\n",
    "\"year\": 2020\n",
    "}\n",
    "thisdict[\"year\"] = 2018\n",
    "print(thisdict)"
   ]
  },
  {
   "cell_type": "code",
   "execution_count": 6,
   "metadata": {},
   "outputs": [
    {
     "name": "stdout",
     "output_type": "stream",
     "text": [
      "Company\n",
      "model\n",
      "year\n"
     ]
    }
   ],
   "source": [
    "# Print all key names in the dictionary, one by one:\n",
    "thisdict = {\n",
    "\"Company\": \"Maruti\",\n",
    "\"model\": \"Swift\",\n",
    "\"year\": 2020\n",
    "}    \n",
    "for x in thisdict:\n",
    "    print(x)"
   ]
  },
  {
   "cell_type": "code",
   "execution_count": 7,
   "metadata": {},
   "outputs": [
    {
     "name": "stdout",
     "output_type": "stream",
     "text": [
      "Maruti\n",
      "Swift\n",
      "2020\n"
     ]
    }
   ],
   "source": [
    "# Print all values in the dictionary, one by one:\n",
    "thisdict = {\n",
    "    \"Company\": \"Maruti\",\n",
    "    \"model\": \"Swift\",\n",
    "    \"year\": 2020\n",
    " }\n",
    "\n",
    "for x in thisdict:\n",
    "    print(thisdict[x])"
   ]
  },
  {
   "cell_type": "code",
   "execution_count": 8,
   "metadata": {},
   "outputs": [
    {
     "name": "stdout",
     "output_type": "stream",
     "text": [
      "Maruti\n",
      "Swift\n",
      "2020\n"
     ]
    }
   ],
   "source": [
    "  #You can also use the values() method to return values of a dictionary:\n",
    "thisdict = {\n",
    "    \"Company\": \"Maruti\",\n",
    "    \"model\": \"Swift\",\n",
    "    \"year\": 2020\n",
    "    }\n",
    "\n",
    "for x in thisdict.values():\n",
    "        print(x)"
   ]
  },
  {
   "cell_type": "code",
   "execution_count": 9,
   "metadata": {},
   "outputs": [
    {
     "name": "stdout",
     "output_type": "stream",
     "text": [
      "Company Maruti\n",
      "model Swift\n",
      "year 2020\n"
     ]
    }
   ],
   "source": [
    "#Loop through both keys and values, by using the items() method:\n",
    "thisdict = {\n",
    "    \"Company\": \"Maruti\",\n",
    "    \"model\": \"Swift\",\n",
    "    \"year\": 2020\n",
    "    }\n",
    "    \n",
    "for x, y in thisdict.items():\n",
    "      print(x, y)"
   ]
  },
  {
   "cell_type": "markdown",
   "metadata": {},
   "source": [
    "## Dictionary Length"
   ]
  },
  {
   "cell_type": "code",
   "execution_count": 10,
   "metadata": {},
   "outputs": [
    {
     "name": "stdout",
     "output_type": "stream",
     "text": [
      "3\n"
     ]
    }
   ],
   "source": [
    "thisdict = {\n",
    "    \"Company\": \"Maruti\",\n",
    "    \"model\": \"Swift\",\n",
    "    \"year\": 2020\n",
    "    }\n",
    "print(len(thisdict))"
   ]
  },
  {
   "cell_type": "markdown",
   "metadata": {},
   "source": [
    " ## Adding Items"
   ]
  },
  {
   "cell_type": "code",
   "execution_count": 11,
   "metadata": {},
   "outputs": [
    {
     "name": "stdout",
     "output_type": "stream",
     "text": [
      "{'Company': 'Maruti', 'model': 'Swift', 'year': 2020, 'color': 'blue'}\n"
     ]
    }
   ],
   "source": [
    "thisdict = {\n",
    "    \"Company\": \"Maruti\",\n",
    "    \"model\": \"Swift\",\n",
    "    \"year\": 2020\n",
    "    }\n",
    "thisdict[\"color\"] = \"blue\"\n",
    "print(thisdict)"
   ]
  },
  {
   "cell_type": "markdown",
   "metadata": {},
   "source": [
    "\n",
    "\n",
    "## Removing Items"
   ]
  },
  {
   "cell_type": "code",
   "execution_count": 12,
   "metadata": {},
   "outputs": [
    {
     "name": "stdout",
     "output_type": "stream",
     "text": [
      "{'Company': 'Maruti', 'year': 2020}\n"
     ]
    }
   ],
   "source": [
    "#The pop() method removes the item with the specified key name:\n",
    "thisdict = {\n",
    "    \"Company\": \"Maruti\",\n",
    "    \"model\": \"Swift\",\n",
    "    \"year\": 2020\n",
    "    }\n",
    "thisdict.pop(\"model\")\n",
    "print(thisdict)"
   ]
  },
  {
   "cell_type": "code",
   "execution_count": 13,
   "metadata": {},
   "outputs": [
    {
     "name": "stdout",
     "output_type": "stream",
     "text": [
      "{'Company': 'Maruti', 'model': 'Swift'}\n"
     ]
    }
   ],
   "source": [
    "#The popitem() method removes the last inserted item\n",
    "thisdict = {\n",
    "    \"Company\": \"Maruti\",\n",
    "    \"model\": \"Swift\",\n",
    "    \"year\": 2020\n",
    "    }\n",
    "thisdict.popitem()\n",
    "print(thisdict)"
   ]
  },
  {
   "cell_type": "code",
   "execution_count": 14,
   "metadata": {},
   "outputs": [
    {
     "name": "stdout",
     "output_type": "stream",
     "text": [
      "{'Company': 'Maruti', 'year': 2020}\n"
     ]
    }
   ],
   "source": [
    "#The del keyword removes the item with the specified key name:\n",
    "thisdict = {\n",
    "    \"Company\": \"Maruti\",\n",
    "    \"model\": \"Swift\",\n",
    "    \"year\": 2020\n",
    "    }\n",
    "del thisdict[\"model\"]\n",
    "print(thisdict)"
   ]
  },
  {
   "cell_type": "code",
   "execution_count": 15,
   "metadata": {},
   "outputs": [
    {
     "ename": "NameError",
     "evalue": "name 'thisdict' is not defined",
     "output_type": "error",
     "traceback": [
      "\u001b[1;31m---------------------------------------------------------------------------\u001b[0m",
      "\u001b[1;31mNameError\u001b[0m                                 Traceback (most recent call last)",
      "\u001b[1;32m<ipython-input-15-911455a530b3>\u001b[0m in \u001b[0;36m<module>\u001b[1;34m()\u001b[0m\n\u001b[0;32m      6\u001b[0m     }\n\u001b[0;32m      7\u001b[0m \u001b[1;32mdel\u001b[0m \u001b[0mthisdict\u001b[0m\u001b[1;33m\u001b[0m\u001b[0m\n\u001b[1;32m----> 8\u001b[1;33m \u001b[0mprint\u001b[0m\u001b[1;33m(\u001b[0m\u001b[0mthisdict\u001b[0m\u001b[1;33m)\u001b[0m\u001b[1;33m\u001b[0m\u001b[0m\n\u001b[0m",
      "\u001b[1;31mNameError\u001b[0m: name 'thisdict' is not defined"
     ]
    }
   ],
   "source": [
    "#The del keyword can also delete the dictionary completely:\n",
    "thisdict = {\n",
    "    \"Company\": \"Maruti\",\n",
    "    \"model\": \"Swift\",\n",
    "    \"year\": 2020\n",
    "    }\n",
    "del thisdict\n",
    "print(thisdict)"
   ]
  },
  {
   "cell_type": "code",
   "execution_count": 16,
   "metadata": {},
   "outputs": [
    {
     "name": "stdout",
     "output_type": "stream",
     "text": [
      "{}\n"
     ]
    }
   ],
   "source": [
    "#The clear() method empties the dictionary:\n",
    "thisdict = {\n",
    "    \"Company\": \"Maruti\",\n",
    "    \"model\": \"Swift\",\n",
    "    \"year\": 2020\n",
    "    }\n",
    "thisdict.clear()\n",
    "print(thisdict)  "
   ]
  },
  {
   "cell_type": "markdown",
   "metadata": {},
   "source": [
    "## Copy a Dictionary"
   ]
  },
  {
   "cell_type": "code",
   "execution_count": 17,
   "metadata": {},
   "outputs": [
    {
     "name": "stdout",
     "output_type": "stream",
     "text": [
      "{'Company': 'Maruti', 'model': 'Swift', 'year': 2020}\n"
     ]
    }
   ],
   "source": [
    "thisdict = {\n",
    "    \"Company\": \"Maruti\",\n",
    "    \"model\": \"Swift\",\n",
    "    \"year\": 2020\n",
    "    }\n",
    "mydict = thisdict.copy()\n",
    "print(mydict) "
   ]
  }
 ],
 "metadata": {
  "kernelspec": {
   "display_name": "Python 3",
   "language": "python",
   "name": "python3"
  },
  "language_info": {
   "codemirror_mode": {
    "name": "ipython",
    "version": 3
   },
   "file_extension": ".py",
   "mimetype": "text/x-python",
   "name": "python",
   "nbconvert_exporter": "python",
   "pygments_lexer": "ipython3",
   "version": "3.6.5"
  }
 },
 "nbformat": 4,
 "nbformat_minor": 4
}
